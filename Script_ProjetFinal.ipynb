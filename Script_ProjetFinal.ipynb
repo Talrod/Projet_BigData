{
 "cells": [
  {
   "cell_type": "markdown",
   "metadata": {},
   "source": [
    "# Importation des bibliothèques et des modules"
   ]
  },
  {
   "cell_type": "code",
   "execution_count": 21,
   "metadata": {},
   "outputs": [],
   "source": [
    "from pyspark.sql import SparkSession\n",
    "from pyspark import SparkContext, SparkConf \n",
    "from pyspark.sql.functions import col, when\n",
    "from pyspark.sql.types import IntegerType\n",
    "from pyspark.sql import functions as F\n",
    "from pyspark.sql.functions import datediff, to_date"
   ]
  },
  {
   "cell_type": "markdown",
   "metadata": {},
   "source": [
    "# Instanciation du client Spark Session"
   ]
  },
  {
   "cell_type": "code",
   "execution_count": 2,
   "metadata": {},
   "outputs": [],
   "source": [
    "conf = SparkConf().set('spark.driver.host','127.0.0.1')\n",
    "sc = SparkContext(master='local', appName='myAppName',conf=conf)\n",
    "\n",
    "spark = SparkSession.builder\\\n",
    "                    .master(\"local[*]\")\\\n",
    "                    .appName(\"CreateTable\")\\\n",
    "                    .getOrCreate()"
   ]
  },
  {
   "cell_type": "markdown",
   "metadata": {},
   "source": [
    "# Création des tables"
   ]
  },
  {
   "cell_type": "code",
   "execution_count": 24,
   "metadata": {},
   "outputs": [
    {
     "name": "stdout",
     "output_type": "stream",
     "text": [
      "+-----+-----------------+\n",
      "|  aid|             name|\n",
      "+-----+-----------------+\n",
      "|07890| Jean Paul Sartre|\n",
      "|05678|Pierre de Ronsard|\n",
      "+-----+-----------------+\n",
      "\n"
     ]
    }
   ],
   "source": [
    "Author = sc.parallelize([[\"07890\",\"Jean Paul Sartre\"], \n",
    "                         [\"05678\",\"Pierre de Ronsard\"]])\\\n",
    "           .toDF((\"aid\", \"name\"))\n",
    "Author.show()\n",
    "\n",
    "Author.createOrReplaceTempView(\"Author_sql\")"
   ]
  },
  {
   "cell_type": "code",
   "execution_count": 25,
   "metadata": {},
   "outputs": [
    {
     "name": "stdout",
     "output_type": "stream",
     "text": [
      "+----+--------------------+-----------+\n",
      "| bid|               title|   category|\n",
      "+----+--------------------+-----------+\n",
      "|0001|L'existantialisme...|Philisophie|\n",
      "|0002|Huis clos. Suivi ...|Philosophie|\n",
      "|0003|Mignonne allons v...|      Poeme|\n",
      "|0004|          Les Amours|      Poeme|\n",
      "+----+--------------------+-----------+\n",
      "\n"
     ]
    }
   ],
   "source": [
    "book = sc.parallelize([[\"0001\",\"L'existantialisme est un humanisme\",\"Philisophie\"], \n",
    "                       [\"0002\",\"Huis clos. Suivi de Les Mouches\",\"Philosophie\"], \n",
    "                       [\"0003\",\"Mignonne allons voir si la rose\",\"Poeme\"], \n",
    "                       [\"0004\",\"Les Amours\",\"Poeme\"]])\\\n",
    "         .toDF((\"bid\", \"title\",\"category\"))\n",
    "book.show()\n",
    "\n",
    "book.createOrReplaceTempView(\"book_sql\")"
   ]
  },
  {
   "cell_type": "code",
   "execution_count": 26,
   "metadata": {},
   "outputs": [
    {
     "name": "stdout",
     "output_type": "stream",
     "text": [
      "+---+-----+---------+\n",
      "|sid|sname|     dept|\n",
      "+---+-----+---------+\n",
      "|S15| toto|     Math|\n",
      "|S16| popo|      Eco|\n",
      "|S17| fofo|Mecanique|\n",
      "+---+-----+---------+\n",
      "\n"
     ]
    }
   ],
   "source": [
    "Student = sc.parallelize([[\"S15\",\"toto\",\"Math\"], \n",
    "                          [\"S16\",\"popo\",\"Eco\"], \n",
    "                          [\"S17\",\"fofo\",\"Mecanique\"]])\\\n",
    "            .toDF((\"sid\", \"sname\",\"dept\"))\n",
    "Student.show()\n",
    "\n",
    "Student.createOrReplaceTempView(\"Student_sql\")"
   ]
  },
  {
   "cell_type": "code",
   "execution_count": 27,
   "metadata": {},
   "outputs": [
    {
     "name": "stdout",
     "output_type": "stream",
     "text": [
      "+-----+----+\n",
      "|  aid| bid|\n",
      "+-----+----+\n",
      "|07890|0001|\n",
      "|07890|0002|\n",
      "|05678|0003|\n",
      "|05678|0003|\n",
      "+-----+----+\n",
      "\n"
     ]
    }
   ],
   "source": [
    "write = sc.parallelize([[\"07890\",\"0001\"], \n",
    "                        [\"07890\",\"0002\"], \n",
    "                        [\"05678\",\"0003\"], \n",
    "                        [\"05678\",\"0003\"]])\\\n",
    "          .toDF((\"aid\", \"bid\"))\n",
    "write.show()\n",
    "\n",
    "write.createOrReplaceTempView(\"write_sql\")"
   ]
  },
  {
   "cell_type": "code",
   "execution_count": 28,
   "metadata": {},
   "outputs": [
    {
     "name": "stdout",
     "output_type": "stream",
     "text": [
      "+---+----+-------------+-----------+\n",
      "|sid| bid|checkout-time|return-time|\n",
      "+---+----+-------------+-----------+\n",
      "|S15|0003|   02-01-2020| 01-02-2020|\n",
      "|S15|0002|   13-06-2020|       null|\n",
      "|S15|0001|   13-06-2020| 13-10-2020|\n",
      "|S16|0002|   24-01-2020| 24-01-2020|\n",
      "|S17|0001|   12-04-2020| 01-07-2020|\n",
      "+---+----+-------------+-----------+\n",
      "\n"
     ]
    }
   ],
   "source": [
    "borrow  = sc.parallelize([[\"S15\",\"0003\",\"02-01-2020\",\"01-02-2020\"], \n",
    "                          [\"S15\",\"0002\",\"13-06-2020\",None], \n",
    "                          [\"S15\",\"0001\",\"13-06-2020\",\"13-10-2020\"], \n",
    "                          [\"S16\",\"0002\",\"24-01-2020\",\"24-01-2020\"],\n",
    "                          [\"S17\",\"0001\",\"12-04-2020\",\"01-07-2020\"]])\\\n",
    "            .toDF((\"sid\", \"bid\",\"checkout-time\",\"return-time\"))\n",
    "borrow.show()\n",
    "\n",
    "borrow.createOrReplaceTempView(\"borrow_sql\")"
   ]
  },
  {
   "cell_type": "markdown",
   "metadata": {},
   "source": [
    "# 1 - Trouver les titres de tous les livres que l'étudiant sid='S15' a emprunté\n"
   ]
  },
  {
   "cell_type": "code",
   "execution_count": 29,
   "metadata": {},
   "outputs": [
    {
     "name": "stdout",
     "output_type": "stream",
     "text": [
      "+---+--------------------+\n",
      "|sid|               title|\n",
      "+---+--------------------+\n",
      "|S15|Huis clos. Suivi ...|\n",
      "|S15|Mignonne allons v...|\n",
      "|S15|L'existantialisme...|\n",
      "+---+--------------------+\n",
      "\n",
      "+---+--------------------+\n",
      "|sid|               title|\n",
      "+---+--------------------+\n",
      "|S15|Huis clos. Suivi ...|\n",
      "|S15|Mignonne allons v...|\n",
      "|S15|L'existantialisme...|\n",
      "+---+--------------------+\n",
      "\n"
     ]
    }
   ],
   "source": [
    "#DSL\n",
    "borrow.join(book, \"bid\")\\\n",
    "     .select(\"sid\",\"title\")\\\n",
    "     .filter(col(\"sid\") == \"S15\")\\\n",
    "     .show()\n",
    "\n",
    "#SQL\n",
    "spark.sql(\"\"\"SELECT sid, title from borrow_sql\n",
    "        left join book_sql\n",
    "        on borrow_sql.bid=book_sql.bid\n",
    "        WHERE borrow_sql.sid=\"S15\"\n",
    "         \"\"\").show()"
   ]
  },
  {
   "cell_type": "markdown",
   "metadata": {},
   "source": [
    "# 2 - Trouver les titres de tous les livres qui n'ont jamais été empruntés par un étudiant"
   ]
  },
  {
   "cell_type": "code",
   "execution_count": 30,
   "metadata": {},
   "outputs": [
    {
     "name": "stdout",
     "output_type": "stream",
     "text": [
      "+----------+\n",
      "|     title|\n",
      "+----------+\n",
      "|Les Amours|\n",
      "+----------+\n",
      "\n",
      "+----------+\n",
      "|     title|\n",
      "+----------+\n",
      "|Les Amours|\n",
      "+----------+\n",
      "\n"
     ]
    }
   ],
   "source": [
    "#DSL\n",
    "book.join(borrow, \"bid\", how=\"left\")\\\n",
    "     .select(\"title\")\\\n",
    "     .filter(col(\"checkout-time\").isNull())\\\n",
    "     .show()\n",
    "\n",
    "#SQL\n",
    "spark.sql(\"\"\"SELECT title from book_sql\n",
    "        left join borrow_sql\n",
    "        on book_sql.bid=borrow_sql.bid\n",
    "        WHERE borrow_sql.bid IS NULL\n",
    "         \"\"\").show()"
   ]
  },
  {
   "cell_type": "markdown",
   "metadata": {},
   "source": [
    "# 3 - Trouver tous les étudiants qui ont emprunté le livre bid=’0002’"
   ]
  },
  {
   "cell_type": "code",
   "execution_count": 31,
   "metadata": {},
   "outputs": [
    {
     "name": "stdout",
     "output_type": "stream",
     "text": [
      "+-----+----+\n",
      "|sname| bid|\n",
      "+-----+----+\n",
      "| popo|0002|\n",
      "| toto|0002|\n",
      "+-----+----+\n",
      "\n",
      "+-----+----+\n",
      "|sname| bid|\n",
      "+-----+----+\n",
      "| popo|0002|\n",
      "| toto|0002|\n",
      "+-----+----+\n",
      "\n"
     ]
    }
   ],
   "source": [
    "#DSL\n",
    "Student.join(borrow, \"sid\")\\\n",
    "     .select(\"sname\",\"bid\")\\\n",
    "     .filter(col(\"bid\") == \"0002\")\\\n",
    "     .show()\n",
    "\n",
    "#SQL\n",
    "spark.sql(\"\"\"SELECT sname, bid from Student_sql\n",
    "        left join borrow_sql\n",
    "        on Student_sql.sid=borrow_sql.sid\n",
    "        WHERE borrow_sql.bid=\"0002\"\n",
    "         \"\"\").show()"
   ]
  },
  {
   "cell_type": "markdown",
   "metadata": {},
   "source": [
    "# 4 - Trouver les titres de tous les livres empruntés par des étudiants en informatique (département informatique)"
   ]
  },
  {
   "cell_type": "code",
   "execution_count": 32,
   "metadata": {},
   "outputs": [
    {
     "name": "stdout",
     "output_type": "stream",
     "text": [
      "+---------+--------------------+\n",
      "|     dept|               title|\n",
      "+---------+--------------------+\n",
      "|Mecanique|L'existantialisme...|\n",
      "+---------+--------------------+\n",
      "\n",
      "+-----------+--------------------+\n",
      "|Departement|               Titre|\n",
      "+-----------+--------------------+\n",
      "|  Mecanique|L'existantialisme...|\n",
      "+-----------+--------------------+\n",
      "\n"
     ]
    }
   ],
   "source": [
    "#DSL\n",
    "book.join(borrow, \"bid\")\\\n",
    "    .join(Student,\"sid\")\\\n",
    "    .select(\"dept\",\"title\")\\\n",
    "    .filter(col(\"dept\") == \"Mecanique\")\\\n",
    "    .show()\n",
    "\n",
    "#SQL\n",
    "spark.sql(\"\"\"SELECT dept as Departement, title as Titre from Student_sql\n",
    "        inner join borrow_sql\n",
    "        on Student_sql.sid=borrow_sql.sid\n",
    "        inner join book_sql\n",
    "        on book_sql.bid=borrow_sql.bid\n",
    "        WHERE Student_sql.dept = \"Mecanique\"\n",
    "         \"\"\").show()"
   ]
  },
  {
   "cell_type": "markdown",
   "metadata": {},
   "source": [
    "# 5 - Trouver les étudiants qui n’ont jamais emprunté de livre"
   ]
  },
  {
   "cell_type": "code",
   "execution_count": 33,
   "metadata": {},
   "outputs": [
    {
     "name": "stdout",
     "output_type": "stream",
     "text": [
      "+-----+\n",
      "|sname|\n",
      "+-----+\n",
      "+-----+\n",
      "\n",
      "+-----+\n",
      "|sname|\n",
      "+-----+\n",
      "+-----+\n",
      "\n"
     ]
    }
   ],
   "source": [
    "#DSL\n",
    "Student.join(borrow, \"sid\", how=\"left\")\\\n",
    "       .select(\"sname\")\\\n",
    "       .filter(col(\"bid\").isNull())\\\n",
    "       .show()\n",
    "\n",
    "#SQL\n",
    "spark.sql(\"\"\"SELECT sname from Student_sql\n",
    "        left join borrow_sql\n",
    "        on Student_sql.sid=borrow_sql.sid\n",
    "        WHERE borrow_sql.bid IS NULL\n",
    "         \"\"\").show()"
   ]
  },
  {
   "cell_type": "markdown",
   "metadata": {},
   "source": [
    "# 6 - Déterminer l’auteur qui a écrit le plus de livres"
   ]
  },
  {
   "cell_type": "code",
   "execution_count": 34,
   "metadata": {},
   "outputs": [
    {
     "name": "stdout",
     "output_type": "stream",
     "text": [
      "+----------------+------+\n",
      "|            name|nombre|\n",
      "+----------------+------+\n",
      "|Jean Paul Sartre|     2|\n",
      "+----------------+------+\n",
      "\n",
      "+----------------+------+\n",
      "|            name|nombre|\n",
      "+----------------+------+\n",
      "|Jean Paul Sartre|     2|\n",
      "+----------------+------+\n",
      "\n"
     ]
    }
   ],
   "source": [
    "#DSL\n",
    "Author.join(write, \"aid\", how=\"left\")\\\n",
    "      .distinct()\\\n",
    "      .groupBy(\"name\")\\\n",
    "      .agg(F.count(col(\"bid\")).alias(\"nombre\"))\\\n",
    "      .sort(\"nombre\", ascending=False)\\\n",
    "      .limit(1)\\\n",
    "      .show()\n",
    "\n",
    "#SQL\n",
    "spark.sql(\"\"\"SELECT name, count(distinct bid) as nombre from Author_sql\n",
    "        left join write_sql\n",
    "        on Author_sql.aid=write_sql.aid\n",
    "        GROUP BY name\n",
    "        ORDER BY nombre DESC LIMIT 1\n",
    "         \"\"\").show()"
   ]
  },
  {
   "cell_type": "markdown",
   "metadata": {},
   "source": [
    "# 7 - Déterminer les personnes qui n’ont pas encore rendu les livres"
   ]
  },
  {
   "cell_type": "code",
   "execution_count": 35,
   "metadata": {},
   "outputs": [
    {
     "name": "stdout",
     "output_type": "stream",
     "text": [
      "+-----+\n",
      "|sname|\n",
      "+-----+\n",
      "| toto|\n",
      "+-----+\n",
      "\n",
      "+-----+\n",
      "|sname|\n",
      "+-----+\n",
      "| toto|\n",
      "+-----+\n",
      "\n"
     ]
    }
   ],
   "source": [
    "#DSL\n",
    "Student.join(borrow, \"sid\", how=\"left\")\\\n",
    "       .select(\"sname\")\\\n",
    "       .filter(col(\"return-time\").isNull())\\\n",
    "       .show()\n",
    "\n",
    "#SQL\n",
    "spark.sql(\"\"\"SELECT sname from Student_sql\n",
    "        left join borrow_sql\n",
    "        on Student_sql.sid=borrow_sql.sid\n",
    "        WHERE borrow_sql.`return-time` IS NULL\n",
    "         \"\"\").show()"
   ]
  },
  {
   "cell_type": "markdown",
   "metadata": {},
   "source": [
    "# 8 - Création nouvelle colonne"
   ]
  },
  {
   "cell_type": "code",
   "execution_count": 39,
   "metadata": {},
   "outputs": [
    {
     "name": "stdout",
     "output_type": "stream",
     "text": [
      "+---+----+-------------+-----------+-----+\n",
      "|sid| bid|checkout-time|return-time|duree|\n",
      "+---+----+-------------+-----------+-----+\n",
      "|S15|0003|   02-01-2020| 01-02-2020|    0|\n",
      "|S15|0002|   13-06-2020|       null|    0|\n",
      "|S15|0001|   13-06-2020| 13-10-2020|    1|\n",
      "|S16|0002|   24-01-2020| 24-01-2020|    0|\n",
      "|S17|0001|   12-04-2020| 01-07-2020|    0|\n",
      "+---+----+-------------+-----------+-----+\n",
      "\n",
      "+---+----+-------------+-----------+-----+\n",
      "|sid| bid|checkout-time|return-time|duree|\n",
      "+---+----+-------------+-----------+-----+\n",
      "|S15|0003|   02-01-2020| 01-02-2020|    0|\n",
      "|S15|0002|   13-06-2020|       null|    0|\n",
      "|S15|0001|   13-06-2020| 13-10-2020|    1|\n",
      "|S16|0002|   24-01-2020| 24-01-2020|    0|\n",
      "|S17|0001|   12-04-2020| 01-07-2020|    0|\n",
      "+---+----+-------------+-----------+-----+\n",
      "\n"
     ]
    }
   ],
   "source": [
    "#DSL\n",
    "borrow = borrow.withColumn(\"duree\",\n",
    "                             datediff(to_date(\"return-time\",\"dd-MM-yyyy\"),\n",
    "                                      to_date(\"checkout-time\",\"dd-MM-yyyy\")))\\\n",
    "               .withColumn(\"duree\",when(col(\"duree\")>=90,1).otherwise(0))\n",
    "borrow.show()\n",
    "\n",
    "#SQL\n",
    "spark.sql('''select sid, bid, `checkout-time`, `return-time`, \n",
    "                case \n",
    "                    when days >= 90 then 1\n",
    "                    else 0\n",
    "                end as duree\n",
    "            from (select *, DATEDIFF(TO_DATE(`return-time`,\"dd-MM-yyyy\"), TO_DATE(`checkout-time`,\"dd-MM-yyyy\")) as days\n",
    "            from borrow_sql)''').show()"
   ]
  },
  {
   "cell_type": "code",
   "execution_count": 41,
   "metadata": {},
   "outputs": [],
   "source": [
    "borrow.write.csv(\"contention/borrow.csv\")"
   ]
  },
  {
   "cell_type": "markdown",
   "metadata": {},
   "source": [
    "# 9 - Déterminer les livres qui n’ont jamais été empruntés"
   ]
  },
  {
   "cell_type": "code",
   "execution_count": 42,
   "metadata": {},
   "outputs": [
    {
     "name": "stdout",
     "output_type": "stream",
     "text": [
      "+----------+\n",
      "|     title|\n",
      "+----------+\n",
      "|Les Amours|\n",
      "+----------+\n",
      "\n",
      "+----------+\n",
      "|     title|\n",
      "+----------+\n",
      "|Les Amours|\n",
      "+----------+\n",
      "\n"
     ]
    }
   ],
   "source": [
    "#DSL\n",
    "book.join(borrow, \"bid\", how=\"left\")\\\n",
    "     .select(\"title\")\\\n",
    "     .filter(col(\"checkout-time\").isNull())\\\n",
    "     .show()\n",
    "\n",
    "#SQL\n",
    "spark.sql(\"\"\"SELECT title from book_sql\n",
    "        left join borrow_sql\n",
    "        on book_sql.bid=borrow_sql.bid\n",
    "        WHERE borrow_sql.bid IS NULL\n",
    "         \"\"\").show()"
   ]
  }
 ],
 "metadata": {
  "kernelspec": {
   "display_name": "Python 3",
   "language": "python",
   "name": "python3"
  },
  "language_info": {
   "codemirror_mode": {
    "name": "ipython",
    "version": 3
   },
   "file_extension": ".py",
   "mimetype": "text/x-python",
   "name": "python",
   "nbconvert_exporter": "python",
   "pygments_lexer": "ipython3",
   "version": "3.8.5"
  }
 },
 "nbformat": 4,
 "nbformat_minor": 4
}
